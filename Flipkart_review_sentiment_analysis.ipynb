{
  "nbformat": 4,
  "nbformat_minor": 0,
  "metadata": {
    "colab": {
      "name": "Flipkart review sentiment analysis",
      "provenance": [],
      "authorship_tag": "ABX9TyN4xIKRT0qjggDJKJE5u/82",
      "include_colab_link": true
    },
    "kernelspec": {
      "display_name": "Python 3",
      "name": "python3"
    },
    "language_info": {
      "name": "python"
    }
  },
  "cells": [
    {
      "cell_type": "markdown",
      "metadata": {
        "id": "view-in-github",
        "colab_type": "text"
      },
      "source": [
        "<a href=\"https://colab.research.google.com/github/abhishekbalawan/Data-science-projects/blob/main/Flipkart_review_sentiment_analysis.ipynb\" target=\"_parent\"><img src=\"https://colab.research.google.com/assets/colab-badge.svg\" alt=\"Open In Colab\"/></a>"
      ]
    },
    {
      "cell_type": "code",
      "metadata": {
        "id": "P9OqGXezwpXK"
      },
      "source": [
        "#Scrapping data from flipkart review page\n",
        "import requests\n",
        "#Following is the URL for flipkart reviews on parker pen\n",
        "URL = \"https://www.flipkart.com/parker-beta-standard-grey-fountain-pen/product-reviews/itmf86zpphzyznkr?pid=PENF86ZPXZNZGZS8&lid=LSTPENF86ZPXZNZGZS8MS9AM6&marketplace=FLIPKART\"\n",
        "page = requests.get(URL)"
      ],
      "execution_count": 2,
      "outputs": []
    },
    {
      "cell_type": "code",
      "metadata": {
        "id": "IMbe_u_3Y_Iw"
      },
      "source": [
        "#Using BeautifulSoup for web scrapping\n",
        "import requests\n",
        "from bs4 import BeautifulSoup\n",
        "page = requests.get(URL)\n",
        "mainSoup = BeautifulSoup(page.content, \"html.parser\")"
      ],
      "execution_count": 3,
      "outputs": []
    },
    {
      "cell_type": "code",
      "metadata": {
        "id": "hbusze5pZCMa"
      },
      "source": [
        "#User reviews in flipkart's review page are stored in html tag 'div' having class name 't-ZTKy'\n",
        "#Paging to different pages is done through href element with class id 'ge-49M'\n",
        "\n",
        "#getting all the links to review pages and stroing in 'links'\n",
        "links = mainSoup.find_all(\"a\", class_=\"ge-49M\") \n",
        "#list to store all reviews\n",
        "flipkartSentiments=[]\n",
        "#for loop iterates through all review pages and reads user reviews stored within div elements with class name 't-ZTKy'\n",
        "for link in links:\n",
        "    URL = 'https://www.flipkart.com'+link[\"href\"]\n",
        "    page = requests.get(URL)\n",
        "    soup = BeautifulSoup(page.content, \"html.parser\")\n",
        "    links = soup.find_all(\"div\", class_=\"t-ZTKy\")\n",
        "    for link in links:\n",
        "         flipkartSentiments.append(link.text.replace('READ MORE','').strip())\n"
      ],
      "execution_count": 4,
      "outputs": []
    },
    {
      "cell_type": "code",
      "metadata": {
        "colab": {
          "base_uri": "https://localhost:8080/"
        },
        "id": "hp-lf3oTDPDM",
        "outputId": "0bf6d173-0b15-4f51-a18d-af397051926c"
      },
      "source": [
        "flipkartSentiments"
      ],
      "execution_count": 5,
      "outputs": [
        {
          "output_type": "execute_result",
          "data": {
            "text/plain": [
              "[\"Very good product for starters..Not very smooth..Needs a bit of tuning..Use with a good quality ink and if you are a Pro in fountain pen, then maybe you might get a good result..The flow is good..Fine nib is quite Fine..Some feathering on normal papers is seen..I found it good overall. Can't expect much at this range..It's a good pen for day to day writing..\",\n",
              " 'Pros: It is one of the best other excellent products in this price range from Flipkart. Thanks to the Seller & Flipkart as well.Con: NothingRecommend others to buy from Flipkart & from this trustworthy Seller.I thought it would be better to share something about this pen with image & how it helps troublefree writing.',\n",
              " 'very nice pen works very well tanks for sending me with good prize flipcart',\n",
              " \"Since local stores sell this pen for around 135-150 range it is better on flipkart since i got it for just 114/- .Quality product from parker...the ink flow at start isn't perfect but little tuning here and there with the nib makes it a real charm to right with , the nib is a bit scratchy at start which provides a great feedback from paper which is based on personal preference. If you are looking for a pure fountain pen pleasure in this price range i would say it is one of the best.\",\n",
              " 'I have just started to use fountain ink pen, this one is my first only. Pen is good but even a 15 rs pen is same or even better in term of writing. An this price it does not worth it.',\n",
              " 'Excellent product. I gifted this pen to my father and he is so happy with it! I am very happy with this purchase.',\n",
              " 'look wise great look..but this is my first fountain pen so there is some difference as we compare to normal nib...this product is not good for fast wrinting..this product is good for thise people who write with patients..thats all..',\n",
              " 'Really  nice pen.',\n",
              " 'excellent product...smooth writing pen...no issues...go for it..',\n",
              " 'Parker is Parker not peter!',\n",
              " 'good for giving as gift',\n",
              " 'Very good value for money.',\n",
              " 'Very Good.  but color shown in the picture (red) is different from the color given (gray).',\n",
              " 'Good one. Ok for beginners',\n",
              " 'an entry level from Parker. good to start with. fine nib but scratchy... you cannot down grade from a vector or other high end models to this.',\n",
              " 'nice',\n",
              " 'l am so happy for this pen',\n",
              " 'Cool',\n",
              " 'Amazing quality in this price point. Updated stock..',\n",
              " 'light weight',\n",
              " \"Good one and it's genuine parker product   so go ahead with your order.\",\n",
              " 'Nice pen',\n",
              " 'Good',\n",
              " 'Just very very basic. Cheap plastic barrel and steel nib. Starter fountain pen. Not worth the cost. Functional.',\n",
              " 'Good 👍🏻',\n",
              " 'Not bad in this Price rangeThe body is made with plastic.',\n",
              " 'Great product Smooth writing',\n",
              " 'amazing pen',\n",
              " 'You should use with v7 refill it will be FABULOUS!!',\n",
              " \"Very dissatisfied. Didn't even write once. Even when ink cartridge was full.\",\n",
              " \"gawd dammit it, dis pen is dayum Good, absolute peice of heaven, Go for it pusyboiis.. you won't regret a bit.\",\n",
              " 'Good',\n",
              " \"It's product is very nice pls buy this super product\",\n",
              " 'Awesome',\n",
              " 'Nice',\n",
              " 'Nice pen 🙂 I like it ☺️',\n",
              " 'Vary small',\n",
              " 'Packing of flip kart is very good and pen is also nice',\n",
              " 'Best packing good product',\n",
              " 'Fentastic Parker pen ✨✨',\n",
              " 'Nice Product I like it',\n",
              " 'Good',\n",
              " 'Too good😁',\n",
              " 'Excellent choice for beginners and students. Both Cartridge and Ink converter provided. Any ink can be used but recommended Parker Quink. It is very light in weight and ink may leak if the pen is kept upside down.',\n",
              " 'Nice pen',\n",
              " 'Awesome product☺💕',\n",
              " 'Superb pen',\n",
              " 'good',\n",
              " 'Mst pen',\n",
              " 'Very beautiful pen Thank you Flipcard 😍😍🤩🤩',\n",
              " 'Perfect',\n",
              " 'Not bad',\n",
              " 'Extremely smooth and fast pen. Brilliant performance.',\n",
              " 'Bad colour',\n",
              " \"It's  Nice\",\n",
              " 'very nice pen',\n",
              " 'Best pen....',\n",
              " 'Tacke it feel it, ink pen is always good',\n",
              " 'Nice pen',\n",
              " 'Awesome',\n",
              " 'Bad',\n",
              " 'Waste product',\n",
              " 'Good',\n",
              " 'Looks and finishing is excellent, three cartridge and one converter is there, but sometimes ink flow is breaking. Also very thik writing. Otherwise excellent product. But due to writing ,less standard, i shall give four star.',\n",
              " 'Good and nice',\n",
              " \"leaks ink, don't buy\",\n",
              " 'Just a waste of money',\n",
              " 'Very good',\n",
              " 'Very nice pen..I order this pen to gift someone..and she love it..',\n",
              " 'Awesome',\n",
              " \"Always likage problem. Don't buy this pen\",\n",
              " 'Very bad item always leaking ink',\n",
              " 'Great',\n",
              " 'Damage',\n",
              " 'The pen was to good ,but i got broken ink conveter...',\n",
              " 'Very nice😊😊',\n",
              " 'The cap will broke in few days but the pen is excellent',\n",
              " 'Ok',\n",
              " 'Awesome with beautiful design',\n",
              " 'Best product and best service.Thanks flipkart',\n",
              " 'Ok',\n",
              " 'Awesome with beautiful design',\n",
              " 'Best product and best service.Thanks flipkart',\n",
              " 'Ink leck',\n",
              " 'Not as expected',\n",
              " 'Best pen but too costly',\n",
              " 'Well',\n",
              " 'Smooth and easily refillable.',\n",
              " 'Very good products',\n",
              " 'Very bad pen',\n",
              " 'Awesome',\n",
              " 'Qly product.....super',\n",
              " 'Very good product',\n",
              " 'Nice to write',\n",
              " 'Love it',\n",
              " 'Nice',\n",
              " 'Nice super pen',\n",
              " 'Awesome',\n",
              " 'Not bad nice',\n",
              " 'Nice pen better best']"
            ]
          },
          "metadata": {
            "tags": []
          },
          "execution_count": 5
        }
      ]
    },
    {
      "cell_type": "code",
      "metadata": {
        "id": "0Lcg1A1yodD4"
      },
      "source": [
        "import pandas as pd\n",
        "Frame=pd.DataFrame(flipkartSentiments, columns = [\"flipkartReviews\"])"
      ],
      "execution_count": 7,
      "outputs": []
    },
    {
      "cell_type": "code",
      "metadata": {
        "colab": {
          "base_uri": "https://localhost:8080/",
          "height": 419
        },
        "id": "8XTUPyrAoX5W",
        "outputId": "e9c341e1-9b64-4f47-921f-19981ee1d389"
      },
      "source": [
        "Frame"
      ],
      "execution_count": null,
      "outputs": [
        {
          "output_type": "execute_result",
          "data": {
            "text/html": [
              "<div>\n",
              "<style scoped>\n",
              "    .dataframe tbody tr th:only-of-type {\n",
              "        vertical-align: middle;\n",
              "    }\n",
              "\n",
              "    .dataframe tbody tr th {\n",
              "        vertical-align: top;\n",
              "    }\n",
              "\n",
              "    .dataframe thead th {\n",
              "        text-align: right;\n",
              "    }\n",
              "</style>\n",
              "<table border=\"1\" class=\"dataframe\">\n",
              "  <thead>\n",
              "    <tr style=\"text-align: right;\">\n",
              "      <th></th>\n",
              "      <th>flipkartReviews</th>\n",
              "    </tr>\n",
              "  </thead>\n",
              "  <tbody>\n",
              "    <tr>\n",
              "      <th>0</th>\n",
              "      <td>Very good product for starters..Not very smoot...</td>\n",
              "    </tr>\n",
              "    <tr>\n",
              "      <th>1</th>\n",
              "      <td>Pros: It is one of the best other excellent pr...</td>\n",
              "    </tr>\n",
              "    <tr>\n",
              "      <th>2</th>\n",
              "      <td>very nice pen works very well tanks for sendin...</td>\n",
              "    </tr>\n",
              "    <tr>\n",
              "      <th>3</th>\n",
              "      <td>Since local stores sell this pen for around 13...</td>\n",
              "    </tr>\n",
              "    <tr>\n",
              "      <th>4</th>\n",
              "      <td>I have just started to use fountain ink pen, t...</td>\n",
              "    </tr>\n",
              "    <tr>\n",
              "      <th>...</th>\n",
              "      <td>...</td>\n",
              "    </tr>\n",
              "    <tr>\n",
              "      <th>95</th>\n",
              "      <td>Very good product</td>\n",
              "    </tr>\n",
              "    <tr>\n",
              "      <th>96</th>\n",
              "      <td>Nice to write</td>\n",
              "    </tr>\n",
              "    <tr>\n",
              "      <th>97</th>\n",
              "      <td>Love it</td>\n",
              "    </tr>\n",
              "    <tr>\n",
              "      <th>98</th>\n",
              "      <td>Nice</td>\n",
              "    </tr>\n",
              "    <tr>\n",
              "      <th>99</th>\n",
              "      <td>Nice super pen</td>\n",
              "    </tr>\n",
              "  </tbody>\n",
              "</table>\n",
              "<p>100 rows × 1 columns</p>\n",
              "</div>"
            ],
            "text/plain": [
              "                                      flipkartReviews\n",
              "0   Very good product for starters..Not very smoot...\n",
              "1   Pros: It is one of the best other excellent pr...\n",
              "2   very nice pen works very well tanks for sendin...\n",
              "3   Since local stores sell this pen for around 13...\n",
              "4   I have just started to use fountain ink pen, t...\n",
              "..                                                ...\n",
              "95                                  Very good product\n",
              "96                                      Nice to write\n",
              "97                                            Love it\n",
              "98                                               Nice\n",
              "99                                     Nice super pen\n",
              "\n",
              "[100 rows x 1 columns]"
            ]
          },
          "metadata": {
            "tags": []
          },
          "execution_count": 114
        }
      ]
    },
    {
      "cell_type": "code",
      "metadata": {
        "id": "7TtL7NxfnKtU"
      },
      "source": [
        "import numpy as np # linear algebra\n",
        "import pandas as pd # data processing, CSV file I/O (e.g. pd.read_csv)\n",
        "import string # special operations on strings\n",
        "import spacy # language models\n",
        "\n",
        "from matplotlib.pyplot import imread\n",
        "from matplotlib import pyplot as plt\n",
        "from wordcloud import WordCloud\n",
        "%matplotlib inline"
      ],
      "execution_count": 8,
      "outputs": []
    },
    {
      "cell_type": "code",
      "metadata": {
        "colab": {
          "base_uri": "https://localhost:8080/"
        },
        "id": "Gg_9IyW8nMEQ",
        "outputId": "90f5d8b8-1087-4ede-9011-465ed7a42a9a"
      },
      "source": [
        "# remove both the leading and the trailing characters\n",
        "flipkartSentiments = [flipkartReviews.strip() for flipkartReviews in Frame.flipkartReviews] \n",
        "flipkartSentiments"
      ],
      "execution_count": 9,
      "outputs": [
        {
          "output_type": "execute_result",
          "data": {
            "text/plain": [
              "[\"Very good product for starters..Not very smooth..Needs a bit of tuning..Use with a good quality ink and if you are a Pro in fountain pen, then maybe you might get a good result..The flow is good..Fine nib is quite Fine..Some feathering on normal papers is seen..I found it good overall. Can't expect much at this range..It's a good pen for day to day writing..\",\n",
              " 'Pros: It is one of the best other excellent products in this price range from Flipkart. Thanks to the Seller & Flipkart as well.Con: NothingRecommend others to buy from Flipkart & from this trustworthy Seller.I thought it would be better to share something about this pen with image & how it helps troublefree writing.',\n",
              " 'very nice pen works very well tanks for sending me with good prize flipcart',\n",
              " \"Since local stores sell this pen for around 135-150 range it is better on flipkart since i got it for just 114/- .Quality product from parker...the ink flow at start isn't perfect but little tuning here and there with the nib makes it a real charm to right with , the nib is a bit scratchy at start which provides a great feedback from paper which is based on personal preference. If you are looking for a pure fountain pen pleasure in this price range i would say it is one of the best.\",\n",
              " 'I have just started to use fountain ink pen, this one is my first only. Pen is good but even a 15 rs pen is same or even better in term of writing. An this price it does not worth it.',\n",
              " 'Excellent product. I gifted this pen to my father and he is so happy with it! I am very happy with this purchase.',\n",
              " 'look wise great look..but this is my first fountain pen so there is some difference as we compare to normal nib...this product is not good for fast wrinting..this product is good for thise people who write with patients..thats all..',\n",
              " 'Really  nice pen.',\n",
              " 'excellent product...smooth writing pen...no issues...go for it..',\n",
              " 'Parker is Parker not peter!',\n",
              " 'good for giving as gift',\n",
              " 'Very good value for money.',\n",
              " 'Very Good.  but color shown in the picture (red) is different from the color given (gray).',\n",
              " 'Good one. Ok for beginners',\n",
              " 'an entry level from Parker. good to start with. fine nib but scratchy... you cannot down grade from a vector or other high end models to this.',\n",
              " 'nice',\n",
              " 'l am so happy for this pen',\n",
              " 'Cool',\n",
              " 'Amazing quality in this price point. Updated stock..',\n",
              " 'light weight',\n",
              " \"Good one and it's genuine parker product   so go ahead with your order.\",\n",
              " 'Nice pen',\n",
              " 'Good',\n",
              " 'Just very very basic. Cheap plastic barrel and steel nib. Starter fountain pen. Not worth the cost. Functional.',\n",
              " 'Good 👍🏻',\n",
              " 'Not bad in this Price rangeThe body is made with plastic.',\n",
              " 'Great product Smooth writing',\n",
              " 'amazing pen',\n",
              " 'You should use with v7 refill it will be FABULOUS!!',\n",
              " \"Very dissatisfied. Didn't even write once. Even when ink cartridge was full.\",\n",
              " \"gawd dammit it, dis pen is dayum Good, absolute peice of heaven, Go for it pusyboiis.. you won't regret a bit.\",\n",
              " 'Good',\n",
              " \"It's product is very nice pls buy this super product\",\n",
              " 'Awesome',\n",
              " 'Nice',\n",
              " 'Nice pen 🙂 I like it ☺️',\n",
              " 'Vary small',\n",
              " 'Packing of flip kart is very good and pen is also nice',\n",
              " 'Best packing good product',\n",
              " 'Fentastic Parker pen ✨✨',\n",
              " 'Nice Product I like it',\n",
              " 'Good',\n",
              " 'Too good😁',\n",
              " 'Excellent choice for beginners and students. Both Cartridge and Ink converter provided. Any ink can be used but recommended Parker Quink. It is very light in weight and ink may leak if the pen is kept upside down.',\n",
              " 'Nice pen',\n",
              " 'Awesome product☺💕',\n",
              " 'Superb pen',\n",
              " 'good',\n",
              " 'Mst pen',\n",
              " 'Very beautiful pen Thank you Flipcard 😍😍🤩🤩',\n",
              " 'Perfect',\n",
              " 'Not bad',\n",
              " 'Extremely smooth and fast pen. Brilliant performance.',\n",
              " 'Bad colour',\n",
              " \"It's  Nice\",\n",
              " 'very nice pen',\n",
              " 'Best pen....',\n",
              " 'Tacke it feel it, ink pen is always good',\n",
              " 'Nice pen',\n",
              " 'Awesome',\n",
              " 'Bad',\n",
              " 'Waste product',\n",
              " 'Good',\n",
              " 'Looks and finishing is excellent, three cartridge and one converter is there, but sometimes ink flow is breaking. Also very thik writing. Otherwise excellent product. But due to writing ,less standard, i shall give four star.',\n",
              " 'Good and nice',\n",
              " \"leaks ink, don't buy\",\n",
              " 'Just a waste of money',\n",
              " 'Very good',\n",
              " 'Very nice pen..I order this pen to gift someone..and she love it..',\n",
              " 'Awesome',\n",
              " \"Always likage problem. Don't buy this pen\",\n",
              " 'Very bad item always leaking ink',\n",
              " 'Great',\n",
              " 'Damage',\n",
              " 'The pen was to good ,but i got broken ink conveter...',\n",
              " 'Very nice😊😊',\n",
              " 'The cap will broke in few days but the pen is excellent',\n",
              " 'Ok',\n",
              " 'Awesome with beautiful design',\n",
              " 'Best product and best service.Thanks flipkart',\n",
              " 'Ok',\n",
              " 'Awesome with beautiful design',\n",
              " 'Best product and best service.Thanks flipkart',\n",
              " 'Ink leck',\n",
              " 'Not as expected',\n",
              " 'Best pen but too costly',\n",
              " 'Well',\n",
              " 'Smooth and easily refillable.',\n",
              " 'Very good products',\n",
              " 'Very bad pen',\n",
              " 'Awesome',\n",
              " 'Qly product.....super',\n",
              " 'Very good product',\n",
              " 'Nice to write',\n",
              " 'Love it',\n",
              " 'Nice',\n",
              " 'Nice super pen',\n",
              " 'Awesome',\n",
              " 'Not bad nice',\n",
              " 'Nice pen better best']"
            ]
          },
          "metadata": {
            "tags": []
          },
          "execution_count": 9
        }
      ]
    },
    {
      "cell_type": "code",
      "metadata": {
        "colab": {
          "base_uri": "https://localhost:8080/",
          "height": 137
        },
        "id": "7hgPTX51r4WX",
        "outputId": "33ae7f1b-41a8-41a9-e9f4-05d2e765f9a1"
      },
      "source": [
        "text = ' '.join(flipkartSentiments)\n",
        "text"
      ],
      "execution_count": 10,
      "outputs": [
        {
          "output_type": "execute_result",
          "data": {
            "application/vnd.google.colaboratory.intrinsic+json": {
              "type": "string"
            },
            "text/plain": [
              "\"Very good product for starters..Not very smooth..Needs a bit of tuning..Use with a good quality ink and if you are a Pro in fountain pen, then maybe you might get a good result..The flow is good..Fine nib is quite Fine..Some feathering on normal papers is seen..I found it good overall. Can't expect much at this range..It's a good pen for day to day writing.. Pros: It is one of the best other excellent products in this price range from Flipkart. Thanks to the Seller & Flipkart as well.Con: NothingRecommend others to buy from Flipkart & from this trustworthy Seller.I thought it would be better to share something about this pen with image & how it helps troublefree writing. very nice pen works very well tanks for sending me with good prize flipcart Since local stores sell this pen for around 135-150 range it is better on flipkart since i got it for just 114/- .Quality product from parker...the ink flow at start isn't perfect but little tuning here and there with the nib makes it a real charm to right with , the nib is a bit scratchy at start which provides a great feedback from paper which is based on personal preference. If you are looking for a pure fountain pen pleasure in this price range i would say it is one of the best. I have just started to use fountain ink pen, this one is my first only. Pen is good but even a 15 rs pen is same or even better in term of writing. An this price it does not worth it. Excellent product. I gifted this pen to my father and he is so happy with it! I am very happy with this purchase. look wise great look..but this is my first fountain pen so there is some difference as we compare to normal nib...this product is not good for fast wrinting..this product is good for thise people who write with patients..thats all.. Really  nice pen. excellent product...smooth writing pen...no issues...go for it.. Parker is Parker not peter! good for giving as gift Very good value for money. Very Good.  but color shown in the picture (red) is different from the color given (gray). Good one. Ok for beginners an entry level from Parker. good to start with. fine nib but scratchy... you cannot down grade from a vector or other high end models to this. nice l am so happy for this pen Cool Amazing quality in this price point. Updated stock.. light weight Good one and it's genuine parker product   so go ahead with your order. Nice pen Good Just very very basic. Cheap plastic barrel and steel nib. Starter fountain pen. Not worth the cost. Functional. Good 👍🏻 Not bad in this Price rangeThe body is made with plastic. Great product Smooth writing amazing pen You should use with v7 refill it will be FABULOUS!! Very dissatisfied. Didn't even write once. Even when ink cartridge was full. gawd dammit it, dis pen is dayum Good, absolute peice of heaven, Go for it pusyboiis.. you won't regret a bit. Good It's product is very nice pls buy this super product Awesome Nice Nice pen 🙂 I like it ☺️ Vary small Packing of flip kart is very good and pen is also nice Best packing good product Fentastic Parker pen ✨✨ Nice Product I like it Good Too good😁 Excellent choice for beginners and students. Both Cartridge and Ink converter provided. Any ink can be used but recommended Parker Quink. It is very light in weight and ink may leak if the pen is kept upside down. Nice pen Awesome product☺💕 Superb pen good Mst pen Very beautiful pen Thank you Flipcard 😍😍🤩🤩 Perfect Not bad Extremely smooth and fast pen. Brilliant performance. Bad colour It's  Nice very nice pen Best pen.... Tacke it feel it, ink pen is always good Nice pen Awesome Bad Waste product Good Looks and finishing is excellent, three cartridge and one converter is there, but sometimes ink flow is breaking. Also very thik writing. Otherwise excellent product. But due to writing ,less standard, i shall give four star. Good and nice leaks ink, don't buy Just a waste of money Very good Very nice pen..I order this pen to gift someone..and she love it.. Awesome Always likage problem. Don't buy this pen Very bad item always leaking ink Great Damage The pen was to good ,but i got broken ink conveter... Very nice😊😊 The cap will broke in few days but the pen is excellent Ok Awesome with beautiful design Best product and best service.Thanks flipkart Ok Awesome with beautiful design Best product and best service.Thanks flipkart Ink leck Not as expected Best pen but too costly Well Smooth and easily refillable. Very good products Very bad pen Awesome Qly product.....super Very good product Nice to write Love it Nice Nice super pen Awesome Not bad nice Nice pen better best\""
            ]
          },
          "metadata": {
            "tags": []
          },
          "execution_count": 10
        }
      ]
    },
    {
      "cell_type": "code",
      "metadata": {
        "colab": {
          "base_uri": "https://localhost:8080/",
          "height": 892
        },
        "id": "pq7f6Oomo7A6",
        "outputId": "47b71f8b-dc00-4a12-a095-92dfacd8b35a"
      },
      "source": [
        "##Part Of Speech Tagging\n",
        "nlp = spacy.load('en')\n",
        "one_block = text\n",
        "doc_block = nlp(one_block)\n",
        "spacy.displacy.render(doc_block, style='ent', jupyter=True)"
      ],
      "execution_count": 11,
      "outputs": [
        {
          "output_type": "display_data",
          "data": {
            "text/html": [
              "<span class=\"tex2jax_ignore\"><div class=\"entities\" style=\"line-height: 2.5; direction: ltr\">Very good product for starters..Not very smooth..Needs a bit of tuning..Use with a good quality ink and if you are a Pro in fountain pen, then maybe you might get a good result..The flow is good..\n",
              "<mark class=\"entity\" style=\"background: #aa9cfc; padding: 0.45em 0.6em; margin: 0 0.25em; line-height: 1; border-radius: 0.35em;\">\n",
              "    Fine nib\n",
              "    <span style=\"font-size: 0.8em; font-weight: bold; line-height: 1; border-radius: 0.35em; text-transform: uppercase; vertical-align: middle; margin-left: 0.5rem\">PERSON</span>\n",
              "</mark>\n",
              " is quite Fine..Some feathering on normal papers is seen..I found it good overall. Can't expect much at this range..It's a good pen for day to day writing.. Pros: It is one of the best other excellent products in this price range from \n",
              "<mark class=\"entity\" style=\"background: #7aecec; padding: 0.45em 0.6em; margin: 0 0.25em; line-height: 1; border-radius: 0.35em;\">\n",
              "    Flipkart\n",
              "    <span style=\"font-size: 0.8em; font-weight: bold; line-height: 1; border-radius: 0.35em; text-transform: uppercase; vertical-align: middle; margin-left: 0.5rem\">ORG</span>\n",
              "</mark>\n",
              ". Thanks to \n",
              "<mark class=\"entity\" style=\"background: #7aecec; padding: 0.45em 0.6em; margin: 0 0.25em; line-height: 1; border-radius: 0.35em;\">\n",
              "    the Seller &amp; Flipkart\n",
              "    <span style=\"font-size: 0.8em; font-weight: bold; line-height: 1; border-radius: 0.35em; text-transform: uppercase; vertical-align: middle; margin-left: 0.5rem\">ORG</span>\n",
              "</mark>\n",
              " as well.Con: \n",
              "<mark class=\"entity\" style=\"background: #7aecec; padding: 0.45em 0.6em; margin: 0 0.25em; line-height: 1; border-radius: 0.35em;\">\n",
              "    NothingRecommend\n",
              "    <span style=\"font-size: 0.8em; font-weight: bold; line-height: 1; border-radius: 0.35em; text-transform: uppercase; vertical-align: middle; margin-left: 0.5rem\">ORG</span>\n",
              "</mark>\n",
              " others to buy from \n",
              "<mark class=\"entity\" style=\"background: #7aecec; padding: 0.45em 0.6em; margin: 0 0.25em; line-height: 1; border-radius: 0.35em;\">\n",
              "    Flipkart &amp;\n",
              "    <span style=\"font-size: 0.8em; font-weight: bold; line-height: 1; border-radius: 0.35em; text-transform: uppercase; vertical-align: middle; margin-left: 0.5rem\">ORG</span>\n",
              "</mark>\n",
              " from this trustworthy \n",
              "<mark class=\"entity\" style=\"background: #feca74; padding: 0.45em 0.6em; margin: 0 0.25em; line-height: 1; border-radius: 0.35em;\">\n",
              "    Seller\n",
              "    <span style=\"font-size: 0.8em; font-weight: bold; line-height: 1; border-radius: 0.35em; text-transform: uppercase; vertical-align: middle; margin-left: 0.5rem\">GPE</span>\n",
              "</mark>\n",
              ".I thought it would be better to share something about this pen with image &amp; how it helps troublefree writing. very nice pen works very well tanks for sending me with good prize flipcart Since local stores sell this pen for around \n",
              "<mark class=\"entity\" style=\"background: #e4e7d2; padding: 0.45em 0.6em; margin: 0 0.25em; line-height: 1; border-radius: 0.35em;\">\n",
              "    135\n",
              "    <span style=\"font-size: 0.8em; font-weight: bold; line-height: 1; border-radius: 0.35em; text-transform: uppercase; vertical-align: middle; margin-left: 0.5rem\">CARDINAL</span>\n",
              "</mark>\n",
              "-150 range it is better on flipkart since i got it for \n",
              "<mark class=\"entity\" style=\"background: #e4e7d2; padding: 0.45em 0.6em; margin: 0 0.25em; line-height: 1; border-radius: 0.35em;\">\n",
              "    just 114/-\n",
              "    <span style=\"font-size: 0.8em; font-weight: bold; line-height: 1; border-radius: 0.35em; text-transform: uppercase; vertical-align: middle; margin-left: 0.5rem\">CARDINAL</span>\n",
              "</mark>\n",
              " .Quality product from parker...the ink flow at start isn't perfect but little tuning here and there with the \n",
              "<mark class=\"entity\" style=\"background: #7aecec; padding: 0.45em 0.6em; margin: 0 0.25em; line-height: 1; border-radius: 0.35em;\">\n",
              "    nib\n",
              "    <span style=\"font-size: 0.8em; font-weight: bold; line-height: 1; border-radius: 0.35em; text-transform: uppercase; vertical-align: middle; margin-left: 0.5rem\">ORG</span>\n",
              "</mark>\n",
              " makes it a real charm to right with , the \n",
              "<mark class=\"entity\" style=\"background: #7aecec; padding: 0.45em 0.6em; margin: 0 0.25em; line-height: 1; border-radius: 0.35em;\">\n",
              "    nib\n",
              "    <span style=\"font-size: 0.8em; font-weight: bold; line-height: 1; border-radius: 0.35em; text-transform: uppercase; vertical-align: middle; margin-left: 0.5rem\">ORG</span>\n",
              "</mark>\n",
              " is a bit scratchy at start which provides a great feedback from paper which is based on personal preference. If you are looking for a pure fountain pen pleasure in this price range i would say it is one of the best. I have just started to use fountain ink pen, this one is my \n",
              "<mark class=\"entity\" style=\"background: #e4e7d2; padding: 0.45em 0.6em; margin: 0 0.25em; line-height: 1; border-radius: 0.35em;\">\n",
              "    first\n",
              "    <span style=\"font-size: 0.8em; font-weight: bold; line-height: 1; border-radius: 0.35em; text-transform: uppercase; vertical-align: middle; margin-left: 0.5rem\">ORDINAL</span>\n",
              "</mark>\n",
              " only. \n",
              "<mark class=\"entity\" style=\"background: #aa9cfc; padding: 0.45em 0.6em; margin: 0 0.25em; line-height: 1; border-radius: 0.35em;\">\n",
              "    Pen\n",
              "    <span style=\"font-size: 0.8em; font-weight: bold; line-height: 1; border-radius: 0.35em; text-transform: uppercase; vertical-align: middle; margin-left: 0.5rem\">PERSON</span>\n",
              "</mark>\n",
              " is good but even a \n",
              "<mark class=\"entity\" style=\"background: #e4e7d2; padding: 0.45em 0.6em; margin: 0 0.25em; line-height: 1; border-radius: 0.35em;\">\n",
              "    15\n",
              "    <span style=\"font-size: 0.8em; font-weight: bold; line-height: 1; border-radius: 0.35em; text-transform: uppercase; vertical-align: middle; margin-left: 0.5rem\">CARDINAL</span>\n",
              "</mark>\n",
              " rs pen is same or even better in term of writing. An this price it does not worth it. Excellent product. I gifted this pen to my father and he is so happy with it! I am very happy with this purchase. look wise great look..but this is my \n",
              "<mark class=\"entity\" style=\"background: #e4e7d2; padding: 0.45em 0.6em; margin: 0 0.25em; line-height: 1; border-radius: 0.35em;\">\n",
              "    first\n",
              "    <span style=\"font-size: 0.8em; font-weight: bold; line-height: 1; border-radius: 0.35em; text-transform: uppercase; vertical-align: middle; margin-left: 0.5rem\">ORDINAL</span>\n",
              "</mark>\n",
              " fountain pen so there is some difference as we compare to normal nib...this product is not good for fast wrinting..this product is good for thise people who write with patients..thats all.. Really  nice pen. excellent product...smooth writing pen...no issues...go for it.. \n",
              "<mark class=\"entity\" style=\"background: #aa9cfc; padding: 0.45em 0.6em; margin: 0 0.25em; line-height: 1; border-radius: 0.35em;\">\n",
              "    Parker\n",
              "    <span style=\"font-size: 0.8em; font-weight: bold; line-height: 1; border-radius: 0.35em; text-transform: uppercase; vertical-align: middle; margin-left: 0.5rem\">PERSON</span>\n",
              "</mark>\n",
              " is \n",
              "<mark class=\"entity\" style=\"background: #aa9cfc; padding: 0.45em 0.6em; margin: 0 0.25em; line-height: 1; border-radius: 0.35em;\">\n",
              "    Parker\n",
              "    <span style=\"font-size: 0.8em; font-weight: bold; line-height: 1; border-radius: 0.35em; text-transform: uppercase; vertical-align: middle; margin-left: 0.5rem\">PERSON</span>\n",
              "</mark>\n",
              " not peter! good for giving as gift Very good value for money. Very Good.  but color shown in the picture (red) is different from the color given (gray). Good one. Ok for beginners an entry level from \n",
              "<mark class=\"entity\" style=\"background: #aa9cfc; padding: 0.45em 0.6em; margin: 0 0.25em; line-height: 1; border-radius: 0.35em;\">\n",
              "    Parker\n",
              "    <span style=\"font-size: 0.8em; font-weight: bold; line-height: 1; border-radius: 0.35em; text-transform: uppercase; vertical-align: middle; margin-left: 0.5rem\">PERSON</span>\n",
              "</mark>\n",
              ". good to start with. fine nib but scratchy... you cannot down grade from a vector or other high end models to this. nice l am so happy for this pen Cool Amazing quality in this price point. Updated stock.. light weight Good one and it's genuine parker product   so go ahead with your order. Nice pen Good Just very very basic. Cheap plastic barrel and steel nib. Starter fountain pen. Not worth the cost. Functional. Good 👍🏻 Not bad in this Price rangeThe body is made with plastic. Great product Smooth writing amazing pen You should use with v7 refill it will be FABULOUS!! Very dissatisfied. Didn't even write once. Even when ink cartridge was full. gawd dammit it, dis pen is dayum Good, absolute peice of heaven, Go for it pusyboiis.. you won't regret a bit. Good It's product is very nice pls buy this super product Awesome Nice Nice pen 🙂 I like it \n",
              "<mark class=\"entity\" style=\"background: #7aecec; padding: 0.45em 0.6em; margin: 0 0.25em; line-height: 1; border-radius: 0.35em;\">\n",
              "    ☺\n",
              "    <span style=\"font-size: 0.8em; font-weight: bold; line-height: 1; border-radius: 0.35em; text-transform: uppercase; vertical-align: middle; margin-left: 0.5rem\">ORG</span>\n",
              "</mark>\n",
              "️ Vary small Packing of flip kart is very good and pen is also nice Best packing good product \n",
              "<mark class=\"entity\" style=\"background: #aa9cfc; padding: 0.45em 0.6em; margin: 0 0.25em; line-height: 1; border-radius: 0.35em;\">\n",
              "    Fentastic Parker\n",
              "    <span style=\"font-size: 0.8em; font-weight: bold; line-height: 1; border-radius: 0.35em; text-transform: uppercase; vertical-align: middle; margin-left: 0.5rem\">PERSON</span>\n",
              "</mark>\n",
              " pen ✨✨ Nice Product I like it Good Too good😁 Excellent choice for beginners and students. Both Cartridge and Ink converter provided. Any ink can be used but recommended \n",
              "<mark class=\"entity\" style=\"background: #aa9cfc; padding: 0.45em 0.6em; margin: 0 0.25em; line-height: 1; border-radius: 0.35em;\">\n",
              "    Parker Quink\n",
              "    <span style=\"font-size: 0.8em; font-weight: bold; line-height: 1; border-radius: 0.35em; text-transform: uppercase; vertical-align: middle; margin-left: 0.5rem\">PERSON</span>\n",
              "</mark>\n",
              ". It is very light in weight and ink may leak if the pen is kept upside down. Nice pen Awesome product\n",
              "<mark class=\"entity\" style=\"background: #7aecec; padding: 0.45em 0.6em; margin: 0 0.25em; line-height: 1; border-radius: 0.35em;\">\n",
              "    ☺\n",
              "    <span style=\"font-size: 0.8em; font-weight: bold; line-height: 1; border-radius: 0.35em; text-transform: uppercase; vertical-align: middle; margin-left: 0.5rem\">ORG</span>\n",
              "</mark>\n",
              "💕 Superb pen good Mst pen Very beautiful pen Thank you \n",
              "<mark class=\"entity\" style=\"background: #aa9cfc; padding: 0.45em 0.6em; margin: 0 0.25em; line-height: 1; border-radius: 0.35em;\">\n",
              "    Flipcard 😍😍\n",
              "    <span style=\"font-size: 0.8em; font-weight: bold; line-height: 1; border-radius: 0.35em; text-transform: uppercase; vertical-align: middle; margin-left: 0.5rem\">PERSON</span>\n",
              "</mark>\n",
              "🤩🤩 Perfect Not bad Extremely smooth and fast pen. Brilliant performance. Bad colour It's  Nice very nice pen Best pen.... Tacke it feel it, ink pen is always good Nice pen Awesome Bad Waste product Good Looks and finishing is excellent, \n",
              "<mark class=\"entity\" style=\"background: #e4e7d2; padding: 0.45em 0.6em; margin: 0 0.25em; line-height: 1; border-radius: 0.35em;\">\n",
              "    three\n",
              "    <span style=\"font-size: 0.8em; font-weight: bold; line-height: 1; border-radius: 0.35em; text-transform: uppercase; vertical-align: middle; margin-left: 0.5rem\">CARDINAL</span>\n",
              "</mark>\n",
              " cartridge and \n",
              "<mark class=\"entity\" style=\"background: #e4e7d2; padding: 0.45em 0.6em; margin: 0 0.25em; line-height: 1; border-radius: 0.35em;\">\n",
              "    one\n",
              "    <span style=\"font-size: 0.8em; font-weight: bold; line-height: 1; border-radius: 0.35em; text-transform: uppercase; vertical-align: middle; margin-left: 0.5rem\">CARDINAL</span>\n",
              "</mark>\n",
              " converter is there, but sometimes ink flow is breaking. Also very thik writing. Otherwise excellent product. But due to writing ,less standard, i shall give \n",
              "<mark class=\"entity\" style=\"background: #e4e7d2; padding: 0.45em 0.6em; margin: 0 0.25em; line-height: 1; border-radius: 0.35em;\">\n",
              "    four\n",
              "    <span style=\"font-size: 0.8em; font-weight: bold; line-height: 1; border-radius: 0.35em; text-transform: uppercase; vertical-align: middle; margin-left: 0.5rem\">CARDINAL</span>\n",
              "</mark>\n",
              " star. Good and nice leaks ink, don't buy Just a waste of money Very good Very nice pen..I order this pen to gift someone..and she love it.. Awesome Always likage problem. Don't buy this pen Very bad item always leaking ink Great Damage The pen was to good ,but i got broken ink conveter... Very nice😊😊 The cap will broke in \n",
              "<mark class=\"entity\" style=\"background: #bfe1d9; padding: 0.45em 0.6em; margin: 0 0.25em; line-height: 1; border-radius: 0.35em;\">\n",
              "    few days\n",
              "    <span style=\"font-size: 0.8em; font-weight: bold; line-height: 1; border-radius: 0.35em; text-transform: uppercase; vertical-align: middle; margin-left: 0.5rem\">DATE</span>\n",
              "</mark>\n",
              " but the pen is excellent Ok Awesome with beautiful design Best product and best service.Thanks flipkart Ok Awesome with beautiful design Best product and best service.Thanks flipkart Ink leck Not as expected Best pen but too costly Well Smooth and easily refillable. Very good products Very bad pen Awesome Qly product.....super Very good product Nice to write Love it Nice Nice super pen Awesome Not bad nice Nice pen better best</div></span>"
            ],
            "text/plain": [
              "<IPython.core.display.HTML object>"
            ]
          },
          "metadata": {
            "tags": []
          }
        }
      ]
    },
    {
      "cell_type": "code",
      "metadata": {
        "colab": {
          "base_uri": "https://localhost:8080/"
        },
        "id": "soXO_oPvsJ9R",
        "outputId": "ec77d087-6867-496e-81f5-bb508e70f6c3"
      },
      "source": [
        "for token in doc_block[0:20]:\n",
        "    print(token, token.pos_)"
      ],
      "execution_count": 12,
      "outputs": [
        {
          "output_type": "stream",
          "text": [
            "Very ADV\n",
            "good ADJ\n",
            "product NOUN\n",
            "for ADP\n",
            "starters NOUN\n",
            ".. PUNCT\n",
            "Not PART\n",
            "very ADV\n",
            "smooth ADJ\n",
            ".. PUNCT\n",
            "Needs VERB\n",
            "a DET\n",
            "bit NOUN\n",
            "of ADP\n",
            "tuning NOUN\n",
            ".. PUNCT\n",
            "Use VERB\n",
            "with ADP\n",
            "a DET\n",
            "good ADJ\n"
          ],
          "name": "stdout"
        }
      ]
    },
    {
      "cell_type": "code",
      "metadata": {
        "colab": {
          "base_uri": "https://localhost:8080/"
        },
        "id": "wAm03qaxsTLp",
        "outputId": "26989407-1f17-4b13-f8dc-f42b4c753e55"
      },
      "source": [
        "#Filtering for nouns and verbs only\n",
        "nouns_verbs = [token.text for token in doc_block if token.pos_ in ('NOUN', 'VERB')]\n",
        "print(nouns_verbs)"
      ],
      "execution_count": 13,
      "outputs": [
        {
          "output_type": "stream",
          "text": [
            "['product', 'starters', 'Needs', 'bit', 'tuning', 'Use', 'quality', 'ink', 'fountain', 'pen', 'might', 'result', 'flow', 'nib', 'feathering', 'papers', 'seen', 'found', 'Ca', 'expect', 'range', 'pen', 'day', 'day', 'writing', 'Pros', 'products', 'price', 'range', 'Thanks', 'Con', 'others', 'buy', 'thought', 'would', 'share', 'pen', 'image', 'helps', 'troublefree', 'writing', 'pen', 'works', 'tanks', 'sending', 'prize', 'stores', 'sell', 'pen', 'range', 'flipkart', 'got', 'product', 'ink', 'flow', 'start', 'tuning', 'makes', 'charm', 'right', 'bit', 'start', 'provides', 'feedback', 'paper', 'based', 'preference', 'looking', 'fountain', 'pen', 'pleasure', 'price', 'range', 'would', 'say', 'started', 'use', 'fountain', 'ink', 'pen', 'one', 'rs', 'pen', 'term', 'writing', 'price', 'worth', 'product', 'gifted', 'pen', 'father', 'purchase', 'look', 'look', 'fountain', 'pen', 'difference', 'compare', 'product', 'wrinting', 'product', 'thise', 'people', 'write', 'patients', 'thats', 'pen', 'product', 'writing', 'pen', 'issues', 'go', 'giving', 'gift', 'value', 'money', 'color', 'shown', 'picture', 'red', 'color', 'given', 'beginners', 'entry', 'level', 'start', 'can', 'grade', 'vector', 'end', 'models', 'pen', 'quality', 'price', 'point', 'Updated', 'stock', 'weight', 'one', 'parker', 'product', 'go', 'order', 'pen', 'plastic', 'barrel', 'fountain', 'pen', 'cost', '👍', '🏻', 'Price', 'body', 'made', 'plastic', 'product', 'writing', 'pen', 'should', 'use', 'refill', 'will', 'write', 'ink', 'cartridge', 'dammit', 'peice', 'Go', 'wo', 'regret', 'bit', 'product', 'pls', 'buy', 'product', 'pen', 'like', 'Vary', 'Packing', 'pen', 'packing', 'product', 'pen', '✨', '✨', 'like', 'choice', 'beginners', 'students', 'converter', 'provided', 'ink', 'can', 'used', 'recommended', 'weight', 'ink', 'may', 'leak', 'pen', 'kept', 'pen', 'product', 'pen', 'pen', 'pen', 'Thank', '😍', '😍', '🤩', '🤩', 'Perfect', 'pen', 'performance', 'colour', 'pen', 'pen', 'Tacke', 'feel', 'ink', 'pen', 'pen', 'product', 'finishing', 'cartridge', 'converter', 'ink', 'flow', 'breaking', 'writing', 'product', 'writing', 'shall', 'give', 'star', 'leaks', 'ink', 'buy', 'waste', 'money', 'pen', 'order', 'pen', 'gift', 'love', 'likage', 'problem', 'buy', 'pen', 'item', 'leaking', 'ink', 'pen', 'got', 'broken', 'ink', 'conveter', 'cap', 'will', 'broke', 'days', 'pen', 'design', 'product', 'service', 'Thanks', 'flipkart', 'design', 'product', 'service', 'Thanks', 'flipkart', 'leck', 'expected', 'pen', 'products', 'pen', 'product', 'product', 'write', 'Love', 'pen', 'pen']\n"
          ],
          "name": "stdout"
        }
      ]
    },
    {
      "cell_type": "code",
      "metadata": {
        "colab": {
          "base_uri": "https://localhost:8080/",
          "height": 359
        },
        "id": "iEo7l8B2sbkx",
        "outputId": "0f1bcba2-3c73-47fa-f6f2-d1e4dbadf22e"
      },
      "source": [
        "#Counting tokens again\n",
        "from sklearn.feature_extraction.text import CountVectorizer\n",
        "cv = CountVectorizer()\n",
        "\n",
        "X = cv.fit_transform(nouns_verbs)\n",
        "sum_words = X.sum(axis=0)\n",
        "words_freq = [(word, sum_words[0, idx]) for word, idx in cv.vocabulary_.items()]\n",
        "words_freq =sorted(words_freq, key = lambda x: x[1], reverse=True)\n",
        "wf_df = pd.DataFrame(words_freq)\n",
        "wf_df.columns = ['word', 'count']\n",
        "\n",
        "wf_df[0:10]"
      ],
      "execution_count": 14,
      "outputs": [
        {
          "output_type": "execute_result",
          "data": {
            "text/html": [
              "<div>\n",
              "<style scoped>\n",
              "    .dataframe tbody tr th:only-of-type {\n",
              "        vertical-align: middle;\n",
              "    }\n",
              "\n",
              "    .dataframe tbody tr th {\n",
              "        vertical-align: top;\n",
              "    }\n",
              "\n",
              "    .dataframe thead th {\n",
              "        text-align: right;\n",
              "    }\n",
              "</style>\n",
              "<table border=\"1\" class=\"dataframe\">\n",
              "  <thead>\n",
              "    <tr style=\"text-align: right;\">\n",
              "      <th></th>\n",
              "      <th>word</th>\n",
              "      <th>count</th>\n",
              "    </tr>\n",
              "  </thead>\n",
              "  <tbody>\n",
              "    <tr>\n",
              "      <th>0</th>\n",
              "      <td>pen</td>\n",
              "      <td>38</td>\n",
              "    </tr>\n",
              "    <tr>\n",
              "      <th>1</th>\n",
              "      <td>product</td>\n",
              "      <td>18</td>\n",
              "    </tr>\n",
              "    <tr>\n",
              "      <th>2</th>\n",
              "      <td>ink</td>\n",
              "      <td>11</td>\n",
              "    </tr>\n",
              "    <tr>\n",
              "      <th>3</th>\n",
              "      <td>writing</td>\n",
              "      <td>7</td>\n",
              "    </tr>\n",
              "    <tr>\n",
              "      <th>4</th>\n",
              "      <td>fountain</td>\n",
              "      <td>5</td>\n",
              "    </tr>\n",
              "    <tr>\n",
              "      <th>5</th>\n",
              "      <td>price</td>\n",
              "      <td>5</td>\n",
              "    </tr>\n",
              "    <tr>\n",
              "      <th>6</th>\n",
              "      <td>range</td>\n",
              "      <td>4</td>\n",
              "    </tr>\n",
              "    <tr>\n",
              "      <th>7</th>\n",
              "      <td>buy</td>\n",
              "      <td>4</td>\n",
              "    </tr>\n",
              "    <tr>\n",
              "      <th>8</th>\n",
              "      <td>bit</td>\n",
              "      <td>3</td>\n",
              "    </tr>\n",
              "    <tr>\n",
              "      <th>9</th>\n",
              "      <td>use</td>\n",
              "      <td>3</td>\n",
              "    </tr>\n",
              "  </tbody>\n",
              "</table>\n",
              "</div>"
            ],
            "text/plain": [
              "       word  count\n",
              "0       pen     38\n",
              "1   product     18\n",
              "2       ink     11\n",
              "3   writing      7\n",
              "4  fountain      5\n",
              "5     price      5\n",
              "6     range      4\n",
              "7       buy      4\n",
              "8       bit      3\n",
              "9       use      3"
            ]
          },
          "metadata": {
            "tags": []
          },
          "execution_count": 14
        }
      ]
    },
    {
      "cell_type": "code",
      "metadata": {
        "colab": {
          "base_uri": "https://localhost:8080/",
          "height": 561
        },
        "id": "FKuc5CQusgO2",
        "outputId": "c91e5cc7-824d-47ea-b8e5-0527943a6184"
      },
      "source": [
        "##Visualizing results\n",
        "#Barchart for top 10 nouns + verbs\n",
        "wf_df[0:10].plot.bar(x='word', figsize=(12,8), title='Top verbs and nouns')"
      ],
      "execution_count": 15,
      "outputs": [
        {
          "output_type": "execute_result",
          "data": {
            "text/plain": [
              "<matplotlib.axes._subplots.AxesSubplot at 0x7fc53690dcd0>"
            ]
          },
          "metadata": {
            "tags": []
          },
          "execution_count": 15
        },
        {
          "output_type": "display_data",
          "data": {
            "image/png": "[encoded data removed]",
            "text/plain": [
              "<Figure size 864x576 with 1 Axes>"
            ]
          },
          "metadata": {
            "tags": [],
            "needs_background": "light"
          }
        }
      ]
    },
    {
      "cell_type": "code",
      "metadata": {
        "colab": {
          "resources": {
            "http://localhost:8080/nbextensions/google.colab/files.js": {
              "data": "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",
              "ok": true,
              "headers": [
                [
                  "content-type",
                  "application/javascript"
                ]
              ],
              "status": 200,
              "status_text": ""
            }
          },
          "base_uri": "https://localhost:8080/",
          "height": 72
        },
        "id": "VrRPU5Brsol8",
        "outputId": "6a5a875f-3a6c-456e-e874-ce726facee5f"
      },
      "source": [
        "#Uploading Afinn file for sentiment analysis\n",
        "from google.colab import files\n",
        "uploaded = files.upload()"
      ],
      "execution_count": 16,
      "outputs": [
        {
          "output_type": "display_data",
          "data": {
            "text/html": [
              "\n",
              "     <input type=\"file\" id=\"files-deb86af1-bce6-458d-90d9-a719dfeedce7\" name=\"files[]\" multiple disabled\n",
              "        style=\"border:none\" />\n",
              "     <output id=\"result-deb86af1-bce6-458d-90d9-a719dfeedce7\">\n",
              "      Upload widget is only available when the cell has been executed in the\n",
              "      current browser session. Please rerun this cell to enable.\n",
              "      </output>\n",
              "      <script src=\"/nbextensions/google.colab/files.js\"></script> "
            ],
            "text/plain": [
              "<IPython.core.display.HTML object>"
            ]
          },
          "metadata": {
            "tags": []
          }
        },
        {
          "output_type": "stream",
          "text": [
            "Saving Afinn.csv to Afinn.csv\n"
          ],
          "name": "stdout"
        }
      ]
    },
    {
      "cell_type": "code",
      "metadata": {
        "colab": {
          "base_uri": "https://localhost:8080/",
          "height": 419
        },
        "id": "eeAurW8rta86",
        "outputId": "dd8e8bf7-a1ac-4ed3-9693-dbb94da03876"
      },
      "source": [
        "import io\n",
        "book = pd.read_csv(io.BytesIO(uploaded['Afinn.csv']),encoding='cp1252',error_bad_lines=False)\n",
        "book"
      ],
      "execution_count": 17,
      "outputs": [
        {
          "output_type": "execute_result",
          "data": {
            "text/html": [
              "<div>\n",
              "<style scoped>\n",
              "    .dataframe tbody tr th:only-of-type {\n",
              "        vertical-align: middle;\n",
              "    }\n",
              "\n",
              "    .dataframe tbody tr th {\n",
              "        vertical-align: top;\n",
              "    }\n",
              "\n",
              "    .dataframe thead th {\n",
              "        text-align: right;\n",
              "    }\n",
              "</style>\n",
              "<table border=\"1\" class=\"dataframe\">\n",
              "  <thead>\n",
              "    <tr style=\"text-align: right;\">\n",
              "      <th></th>\n",
              "      <th>word</th>\n",
              "      <th>value</th>\n",
              "    </tr>\n",
              "  </thead>\n",
              "  <tbody>\n",
              "    <tr>\n",
              "      <th>0</th>\n",
              "      <td>abandon</td>\n",
              "      <td>-2</td>\n",
              "    </tr>\n",
              "    <tr>\n",
              "      <th>1</th>\n",
              "      <td>abandoned</td>\n",
              "      <td>-2</td>\n",
              "    </tr>\n",
              "    <tr>\n",
              "      <th>2</th>\n",
              "      <td>abandons</td>\n",
              "      <td>-2</td>\n",
              "    </tr>\n",
              "    <tr>\n",
              "      <th>3</th>\n",
              "      <td>abducted</td>\n",
              "      <td>-2</td>\n",
              "    </tr>\n",
              "    <tr>\n",
              "      <th>4</th>\n",
              "      <td>abduction</td>\n",
              "      <td>-2</td>\n",
              "    </tr>\n",
              "    <tr>\n",
              "      <th>...</th>\n",
              "      <td>...</td>\n",
              "      <td>...</td>\n",
              "    </tr>\n",
              "    <tr>\n",
              "      <th>2472</th>\n",
              "      <td>yucky</td>\n",
              "      <td>-2</td>\n",
              "    </tr>\n",
              "    <tr>\n",
              "      <th>2473</th>\n",
              "      <td>yummy</td>\n",
              "      <td>3</td>\n",
              "    </tr>\n",
              "    <tr>\n",
              "      <th>2474</th>\n",
              "      <td>zealot</td>\n",
              "      <td>-2</td>\n",
              "    </tr>\n",
              "    <tr>\n",
              "      <th>2475</th>\n",
              "      <td>zealots</td>\n",
              "      <td>-2</td>\n",
              "    </tr>\n",
              "    <tr>\n",
              "      <th>2476</th>\n",
              "      <td>zealous</td>\n",
              "      <td>2</td>\n",
              "    </tr>\n",
              "  </tbody>\n",
              "</table>\n",
              "<p>2477 rows × 2 columns</p>\n",
              "</div>"
            ],
            "text/plain": [
              "           word  value\n",
              "0       abandon     -2\n",
              "1     abandoned     -2\n",
              "2      abandons     -2\n",
              "3      abducted     -2\n",
              "4     abduction     -2\n",
              "...         ...    ...\n",
              "2472      yucky     -2\n",
              "2473      yummy      3\n",
              "2474     zealot     -2\n",
              "2475    zealots     -2\n",
              "2476    zealous      2\n",
              "\n",
              "[2477 rows x 2 columns]"
            ]
          },
          "metadata": {
            "tags": []
          },
          "execution_count": 17
        }
      ]
    },
    {
      "cell_type": "code",
      "metadata": {
        "colab": {
          "base_uri": "https://localhost:8080/"
        },
        "id": "_jlCM-pz7GGt",
        "outputId": "7964378d-4bd3-418a-a654-10c68ce3790e"
      },
      "source": [
        "import nltk\n",
        "nltk.download('punkt')"
      ],
      "execution_count": 18,
      "outputs": [
        {
          "output_type": "stream",
          "text": [
            "[nltk_data] Downloading package punkt to /root/nltk_data...\n",
            "[nltk_data]   Unzipping tokenizers/punkt.zip.\n"
          ],
          "name": "stdout"
        },
        {
          "output_type": "execute_result",
          "data": {
            "text/plain": [
              "True"
            ]
          },
          "metadata": {
            "tags": []
          },
          "execution_count": 18
        }
      ]
    },
    {
      "cell_type": "code",
      "metadata": {
        "colab": {
          "base_uri": "https://localhost:8080/"
        },
        "id": "qRc8YR_e6sCH",
        "outputId": "6d8e7ddd-091c-4667-8dfe-eb1d973bc91a"
      },
      "source": [
        "#Tokenizing\n",
        "from nltk import tokenize\n",
        "sentences = tokenize.sent_tokenize(\" \".join(flipkartSentiments))\n",
        "sentences[5:15]"
      ],
      "execution_count": 19,
      "outputs": [
        {
          "output_type": "execute_result",
          "data": {
            "text/plain": [
              "['I have just started to use fountain ink pen, this one is my first only.',\n",
              " 'Pen is good but even a 15 rs pen is same or even better in term of writing.',\n",
              " 'An this price it does not worth it.',\n",
              " 'Excellent product.',\n",
              " 'I gifted this pen to my father and he is so happy with it!',\n",
              " 'I am very happy with this purchase.',\n",
              " 'look wise great look..but this is my first fountain pen so there is some difference as we compare to normal nib...this product is not good for fast wrinting..this product is good for thise people who write with patients..thats all.. Really  nice pen.',\n",
              " 'excellent product...smooth writing pen...no issues...go for it.. Parker is Parker not peter!',\n",
              " 'good for giving as gift Very good value for money.',\n",
              " 'Very Good.']"
            ]
          },
          "metadata": {
            "tags": []
          },
          "execution_count": 19
        }
      ]
    },
    {
      "cell_type": "code",
      "metadata": {
        "colab": {
          "base_uri": "https://localhost:8080/",
          "height": 1000
        },
        "id": "fU2oH-en7V9M",
        "outputId": "871e3f60-09c0-4120-d9ce-efdc7dee2b95"
      },
      "source": [
        "sent_df = pd.DataFrame(sentences, columns=['sentence'])\n",
        "sent_df"
      ],
      "execution_count": 20,
      "outputs": [
        {
          "output_type": "execute_result",
          "data": {
            "text/html": [
              "<div>\n",
              "<style scoped>\n",
              "    .dataframe tbody tr th:only-of-type {\n",
              "        vertical-align: middle;\n",
              "    }\n",
              "\n",
              "    .dataframe tbody tr th {\n",
              "        vertical-align: top;\n",
              "    }\n",
              "\n",
              "    .dataframe thead th {\n",
              "        text-align: right;\n",
              "    }\n",
              "</style>\n",
              "<table border=\"1\" class=\"dataframe\">\n",
              "  <thead>\n",
              "    <tr style=\"text-align: right;\">\n",
              "      <th></th>\n",
              "      <th>sentence</th>\n",
              "    </tr>\n",
              "  </thead>\n",
              "  <tbody>\n",
              "    <tr>\n",
              "      <th>0</th>\n",
              "      <td>Very good product for starters..Not very smoot...</td>\n",
              "    </tr>\n",
              "    <tr>\n",
              "      <th>1</th>\n",
              "      <td>Can't expect much at this range..It's a good p...</td>\n",
              "    </tr>\n",
              "    <tr>\n",
              "      <th>2</th>\n",
              "      <td>Thanks to the Seller &amp; Flipkart as well.Con: N...</td>\n",
              "    </tr>\n",
              "    <tr>\n",
              "      <th>3</th>\n",
              "      <td>very nice pen works very well tanks for sendin...</td>\n",
              "    </tr>\n",
              "    <tr>\n",
              "      <th>4</th>\n",
              "      <td>If you are looking for a pure fountain pen ple...</td>\n",
              "    </tr>\n",
              "    <tr>\n",
              "      <th>5</th>\n",
              "      <td>I have just started to use fountain ink pen, t...</td>\n",
              "    </tr>\n",
              "    <tr>\n",
              "      <th>6</th>\n",
              "      <td>Pen is good but even a 15 rs pen is same or ev...</td>\n",
              "    </tr>\n",
              "    <tr>\n",
              "      <th>7</th>\n",
              "      <td>An this price it does not worth it.</td>\n",
              "    </tr>\n",
              "    <tr>\n",
              "      <th>8</th>\n",
              "      <td>Excellent product.</td>\n",
              "    </tr>\n",
              "    <tr>\n",
              "      <th>9</th>\n",
              "      <td>I gifted this pen to my father and he is so ha...</td>\n",
              "    </tr>\n",
              "    <tr>\n",
              "      <th>10</th>\n",
              "      <td>I am very happy with this purchase.</td>\n",
              "    </tr>\n",
              "    <tr>\n",
              "      <th>11</th>\n",
              "      <td>look wise great look..but this is my first fou...</td>\n",
              "    </tr>\n",
              "    <tr>\n",
              "      <th>12</th>\n",
              "      <td>excellent product...smooth writing pen...no is...</td>\n",
              "    </tr>\n",
              "    <tr>\n",
              "      <th>13</th>\n",
              "      <td>good for giving as gift Very good value for mo...</td>\n",
              "    </tr>\n",
              "    <tr>\n",
              "      <th>14</th>\n",
              "      <td>Very Good.</td>\n",
              "    </tr>\n",
              "    <tr>\n",
              "      <th>15</th>\n",
              "      <td>but color shown in the picture (red) is differ...</td>\n",
              "    </tr>\n",
              "    <tr>\n",
              "      <th>16</th>\n",
              "      <td>Good one.</td>\n",
              "    </tr>\n",
              "    <tr>\n",
              "      <th>17</th>\n",
              "      <td>Ok for beginners an entry level from Parker.</td>\n",
              "    </tr>\n",
              "    <tr>\n",
              "      <th>18</th>\n",
              "      <td>good to start with.</td>\n",
              "    </tr>\n",
              "    <tr>\n",
              "      <th>19</th>\n",
              "      <td>fine nib but scratchy... you cannot down grade...</td>\n",
              "    </tr>\n",
              "    <tr>\n",
              "      <th>20</th>\n",
              "      <td>nice l am so happy for this pen Cool Amazing q...</td>\n",
              "    </tr>\n",
              "    <tr>\n",
              "      <th>21</th>\n",
              "      <td>Updated stock.. light weight Good one and it's...</td>\n",
              "    </tr>\n",
              "    <tr>\n",
              "      <th>22</th>\n",
              "      <td>Nice pen Good Just very very basic.</td>\n",
              "    </tr>\n",
              "    <tr>\n",
              "      <th>23</th>\n",
              "      <td>Cheap plastic barrel and steel nib.</td>\n",
              "    </tr>\n",
              "    <tr>\n",
              "      <th>24</th>\n",
              "      <td>Starter fountain pen.</td>\n",
              "    </tr>\n",
              "    <tr>\n",
              "      <th>25</th>\n",
              "      <td>Not worth the cost.</td>\n",
              "    </tr>\n",
              "    <tr>\n",
              "      <th>26</th>\n",
              "      <td>Functional.</td>\n",
              "    </tr>\n",
              "    <tr>\n",
              "      <th>27</th>\n",
              "      <td>Good 👍🏻 Not bad in this Price rangeThe body is...</td>\n",
              "    </tr>\n",
              "    <tr>\n",
              "      <th>28</th>\n",
              "      <td>Great product Smooth writing amazing pen You s...</td>\n",
              "    </tr>\n",
              "    <tr>\n",
              "      <th>29</th>\n",
              "      <td>Very dissatisfied.</td>\n",
              "    </tr>\n",
              "    <tr>\n",
              "      <th>30</th>\n",
              "      <td>Didn't even write once.</td>\n",
              "    </tr>\n",
              "    <tr>\n",
              "      <th>31</th>\n",
              "      <td>Even when ink cartridge was full.</td>\n",
              "    </tr>\n",
              "    <tr>\n",
              "      <th>32</th>\n",
              "      <td>gawd dammit it, dis pen is dayum Good, absolut...</td>\n",
              "    </tr>\n",
              "    <tr>\n",
              "      <th>33</th>\n",
              "      <td>Good It's product is very nice pls buy this su...</td>\n",
              "    </tr>\n",
              "    <tr>\n",
              "      <th>34</th>\n",
              "      <td>Both Cartridge and Ink converter provided.</td>\n",
              "    </tr>\n",
              "    <tr>\n",
              "      <th>35</th>\n",
              "      <td>Any ink can be used but recommended Parker Quink.</td>\n",
              "    </tr>\n",
              "    <tr>\n",
              "      <th>36</th>\n",
              "      <td>It is very light in weight and ink may leak if...</td>\n",
              "    </tr>\n",
              "    <tr>\n",
              "      <th>37</th>\n",
              "      <td>Nice pen Awesome product☺💕 Superb pen good Mst...</td>\n",
              "    </tr>\n",
              "    <tr>\n",
              "      <th>38</th>\n",
              "      <td>Brilliant performance.</td>\n",
              "    </tr>\n",
              "    <tr>\n",
              "      <th>39</th>\n",
              "      <td>Bad colour It's  Nice very nice pen Best pen.....</td>\n",
              "    </tr>\n",
              "    <tr>\n",
              "      <th>40</th>\n",
              "      <td>Also very thik writing.</td>\n",
              "    </tr>\n",
              "    <tr>\n",
              "      <th>41</th>\n",
              "      <td>Otherwise excellent product.</td>\n",
              "    </tr>\n",
              "    <tr>\n",
              "      <th>42</th>\n",
              "      <td>But due to writing ,less standard, i shall giv...</td>\n",
              "    </tr>\n",
              "    <tr>\n",
              "      <th>43</th>\n",
              "      <td>Good and nice leaks ink, don't buy Just a wast...</td>\n",
              "    </tr>\n",
              "    <tr>\n",
              "      <th>44</th>\n",
              "      <td>Awesome Always likage problem.</td>\n",
              "    </tr>\n",
              "    <tr>\n",
              "      <th>45</th>\n",
              "      <td>Don't buy this pen Very bad item always leakin...</td>\n",
              "    </tr>\n",
              "    <tr>\n",
              "      <th>46</th>\n",
              "      <td>Very nice😊😊 The cap will broke in few days but...</td>\n",
              "    </tr>\n",
              "    <tr>\n",
              "      <th>47</th>\n",
              "      <td>Very good products Very bad pen Awesome Qly pr...</td>\n",
              "    </tr>\n",
              "  </tbody>\n",
              "</table>\n",
              "</div>"
            ],
            "text/plain": [
              "                                             sentence\n",
              "0   Very good product for starters..Not very smoot...\n",
              "1   Can't expect much at this range..It's a good p...\n",
              "2   Thanks to the Seller & Flipkart as well.Con: N...\n",
              "3   very nice pen works very well tanks for sendin...\n",
              "4   If you are looking for a pure fountain pen ple...\n",
              "5   I have just started to use fountain ink pen, t...\n",
              "6   Pen is good but even a 15 rs pen is same or ev...\n",
              "7                 An this price it does not worth it.\n",
              "8                                  Excellent product.\n",
              "9   I gifted this pen to my father and he is so ha...\n",
              "10                I am very happy with this purchase.\n",
              "11  look wise great look..but this is my first fou...\n",
              "12  excellent product...smooth writing pen...no is...\n",
              "13  good for giving as gift Very good value for mo...\n",
              "14                                         Very Good.\n",
              "15  but color shown in the picture (red) is differ...\n",
              "16                                          Good one.\n",
              "17       Ok for beginners an entry level from Parker.\n",
              "18                                good to start with.\n",
              "19  fine nib but scratchy... you cannot down grade...\n",
              "20  nice l am so happy for this pen Cool Amazing q...\n",
              "21  Updated stock.. light weight Good one and it's...\n",
              "22                Nice pen Good Just very very basic.\n",
              "23                Cheap plastic barrel and steel nib.\n",
              "24                              Starter fountain pen.\n",
              "25                                Not worth the cost.\n",
              "26                                        Functional.\n",
              "27  Good 👍🏻 Not bad in this Price rangeThe body is...\n",
              "28  Great product Smooth writing amazing pen You s...\n",
              "29                                 Very dissatisfied.\n",
              "30                            Didn't even write once.\n",
              "31                  Even when ink cartridge was full.\n",
              "32  gawd dammit it, dis pen is dayum Good, absolut...\n",
              "33  Good It's product is very nice pls buy this su...\n",
              "34         Both Cartridge and Ink converter provided.\n",
              "35  Any ink can be used but recommended Parker Quink.\n",
              "36  It is very light in weight and ink may leak if...\n",
              "37  Nice pen Awesome product☺💕 Superb pen good Mst...\n",
              "38                             Brilliant performance.\n",
              "39  Bad colour It's  Nice very nice pen Best pen.....\n",
              "40                            Also very thik writing.\n",
              "41                       Otherwise excellent product.\n",
              "42  But due to writing ,less standard, i shall giv...\n",
              "43  Good and nice leaks ink, don't buy Just a wast...\n",
              "44                     Awesome Always likage problem.\n",
              "45  Don't buy this pen Very bad item always leakin...\n",
              "46  Very nice😊😊 The cap will broke in few days but...\n",
              "47  Very good products Very bad pen Awesome Qly pr..."
            ]
          },
          "metadata": {
            "tags": []
          },
          "execution_count": 20
        }
      ]
    },
    {
      "cell_type": "code",
      "metadata": {
        "id": "khb5ZOpZ7aqt"
      },
      "source": [
        "affinity_scores = book.set_index('word')['value'].to_dict()"
      ],
      "execution_count": 21,
      "outputs": []
    },
    {
      "cell_type": "code",
      "metadata": {
        "id": "WCgv0heR8CdR"
      },
      "source": [
        "#Custom function :score each word in a sentence in lemmatised form, \n",
        "#but calculate the score for the whole original sentence.\n",
        "nlp = spacy.load('en')\n",
        "sentiment_lexicon = affinity_scores\n",
        "\n",
        "def calculate_sentiment(text: str = None):\n",
        "    sent_score = 0\n",
        "    if text:\n",
        "        sentence = nlp(text)\n",
        "        for word in sentence:\n",
        "            sent_score += sentiment_lexicon.get(word.lemma_, 0)\n",
        "    return sent_score"
      ],
      "execution_count": 22,
      "outputs": []
    },
    {
      "cell_type": "code",
      "metadata": {
        "colab": {
          "base_uri": "https://localhost:8080/"
        },
        "id": "_TstNF-P8FoA",
        "outputId": "9a0b8dad-aa17-4723-8562-928e0797f993"
      },
      "source": [
        "# test that it works\n",
        "calculate_sentiment(text = 'amazing')"
      ],
      "execution_count": 23,
      "outputs": [
        {
          "output_type": "execute_result",
          "data": {
            "text/plain": [
              "4"
            ]
          },
          "metadata": {
            "tags": []
          },
          "execution_count": 23
        }
      ]
    },
    {
      "cell_type": "code",
      "metadata": {
        "id": "Gu42yG0G8Jyy"
      },
      "source": [
        "sent_df['sentiment_value'] = sent_df['sentence'].apply(calculate_sentiment)"
      ],
      "execution_count": 24,
      "outputs": []
    },
    {
      "cell_type": "code",
      "metadata": {
        "id": "3bTuujtj97Rs"
      },
      "source": [
        "sent_df['index']=range(0,len(sent_df))"
      ],
      "execution_count": 25,
      "outputs": []
    },
    {
      "cell_type": "code",
      "metadata": {
        "colab": {
          "base_uri": "https://localhost:8080/"
        },
        "id": "786uA8R98OId",
        "outputId": "71eda640-1844-4c1d-bbeb-17524f54b0b1"
      },
      "source": [
        "# how many words are in the sentence?\n",
        "sent_df['word_count'] = sent_df['sentence'].str.split().apply(len)\n",
        "sent_df['word_count']"
      ],
      "execution_count": 26,
      "outputs": [
        {
          "output_type": "execute_result",
          "data": {
            "text/plain": [
              "0     50\n",
              "1     30\n",
              "2     38\n",
              "3     85\n",
              "4     23\n",
              "5     15\n",
              "6     18\n",
              "7      8\n",
              "8      2\n",
              "9     14\n",
              "10     7\n",
              "11    42\n",
              "12    12\n",
              "13    10\n",
              "14     2\n",
              "15    14\n",
              "16     2\n",
              "17     8\n",
              "18     4\n",
              "19    18\n",
              "20    15\n",
              "21    17\n",
              "22     7\n",
              "23     6\n",
              "24     3\n",
              "25     4\n",
              "26     1\n",
              "27    13\n",
              "28    16\n",
              "29     2\n",
              "30     4\n",
              "31     6\n",
              "32    21\n",
              "33    56\n",
              "34     6\n",
              "35     9\n",
              "36    17\n",
              "37    24\n",
              "38     2\n",
              "39    43\n",
              "40     4\n",
              "41     3\n",
              "42    11\n",
              "43    26\n",
              "44     4\n",
              "45    23\n",
              "46    51\n",
              "47    29\n",
              "Name: word_count, dtype: int64"
            ]
          },
          "metadata": {
            "tags": []
          },
          "execution_count": 26
        }
      ]
    },
    {
      "cell_type": "code",
      "metadata": {
        "colab": {
          "base_uri": "https://localhost:8080/",
          "height": 1000
        },
        "id": "vDZEDwfv8Wog",
        "outputId": "b51520f4-df57-457e-90d8-f5bcec859913"
      },
      "source": [
        "sent_df.sort_values(by='sentiment_value')"
      ],
      "execution_count": 27,
      "outputs": [
        {
          "output_type": "execute_result",
          "data": {
            "text/html": [
              "<div>\n",
              "<style scoped>\n",
              "    .dataframe tbody tr th:only-of-type {\n",
              "        vertical-align: middle;\n",
              "    }\n",
              "\n",
              "    .dataframe tbody tr th {\n",
              "        vertical-align: top;\n",
              "    }\n",
              "\n",
              "    .dataframe thead th {\n",
              "        text-align: right;\n",
              "    }\n",
              "</style>\n",
              "<table border=\"1\" class=\"dataframe\">\n",
              "  <thead>\n",
              "    <tr style=\"text-align: right;\">\n",
              "      <th></th>\n",
              "      <th>sentence</th>\n",
              "      <th>sentiment_value</th>\n",
              "      <th>index</th>\n",
              "      <th>word_count</th>\n",
              "    </tr>\n",
              "  </thead>\n",
              "  <tbody>\n",
              "    <tr>\n",
              "      <th>44</th>\n",
              "      <td>Awesome Always likage problem.</td>\n",
              "      <td>-2</td>\n",
              "      <td>44</td>\n",
              "      <td>4</td>\n",
              "    </tr>\n",
              "    <tr>\n",
              "      <th>29</th>\n",
              "      <td>Very dissatisfied.</td>\n",
              "      <td>-2</td>\n",
              "      <td>29</td>\n",
              "      <td>2</td>\n",
              "    </tr>\n",
              "    <tr>\n",
              "      <th>36</th>\n",
              "      <td>It is very light in weight and ink may leak if...</td>\n",
              "      <td>-1</td>\n",
              "      <td>36</td>\n",
              "      <td>17</td>\n",
              "    </tr>\n",
              "    <tr>\n",
              "      <th>45</th>\n",
              "      <td>Don't buy this pen Very bad item always leakin...</td>\n",
              "      <td>-1</td>\n",
              "      <td>45</td>\n",
              "      <td>23</td>\n",
              "    </tr>\n",
              "    <tr>\n",
              "      <th>15</th>\n",
              "      <td>but color shown in the picture (red) is differ...</td>\n",
              "      <td>-1</td>\n",
              "      <td>15</td>\n",
              "      <td>14</td>\n",
              "    </tr>\n",
              "    <tr>\n",
              "      <th>23</th>\n",
              "      <td>Cheap plastic barrel and steel nib.</td>\n",
              "      <td>0</td>\n",
              "      <td>23</td>\n",
              "      <td>6</td>\n",
              "    </tr>\n",
              "    <tr>\n",
              "      <th>40</th>\n",
              "      <td>Also very thik writing.</td>\n",
              "      <td>0</td>\n",
              "      <td>40</td>\n",
              "      <td>4</td>\n",
              "    </tr>\n",
              "    <tr>\n",
              "      <th>34</th>\n",
              "      <td>Both Cartridge and Ink converter provided.</td>\n",
              "      <td>0</td>\n",
              "      <td>34</td>\n",
              "      <td>6</td>\n",
              "    </tr>\n",
              "    <tr>\n",
              "      <th>31</th>\n",
              "      <td>Even when ink cartridge was full.</td>\n",
              "      <td>0</td>\n",
              "      <td>31</td>\n",
              "      <td>6</td>\n",
              "    </tr>\n",
              "    <tr>\n",
              "      <th>30</th>\n",
              "      <td>Didn't even write once.</td>\n",
              "      <td>0</td>\n",
              "      <td>30</td>\n",
              "      <td>4</td>\n",
              "    </tr>\n",
              "    <tr>\n",
              "      <th>27</th>\n",
              "      <td>Good 👍🏻 Not bad in this Price rangeThe body is...</td>\n",
              "      <td>0</td>\n",
              "      <td>27</td>\n",
              "      <td>13</td>\n",
              "    </tr>\n",
              "    <tr>\n",
              "      <th>26</th>\n",
              "      <td>Functional.</td>\n",
              "      <td>0</td>\n",
              "      <td>26</td>\n",
              "      <td>1</td>\n",
              "    </tr>\n",
              "    <tr>\n",
              "      <th>24</th>\n",
              "      <td>Starter fountain pen.</td>\n",
              "      <td>0</td>\n",
              "      <td>24</td>\n",
              "      <td>3</td>\n",
              "    </tr>\n",
              "    <tr>\n",
              "      <th>42</th>\n",
              "      <td>But due to writing ,less standard, i shall giv...</td>\n",
              "      <td>0</td>\n",
              "      <td>42</td>\n",
              "      <td>11</td>\n",
              "    </tr>\n",
              "    <tr>\n",
              "      <th>17</th>\n",
              "      <td>Ok for beginners an entry level from Parker.</td>\n",
              "      <td>0</td>\n",
              "      <td>17</td>\n",
              "      <td>8</td>\n",
              "    </tr>\n",
              "    <tr>\n",
              "      <th>21</th>\n",
              "      <td>Updated stock.. light weight Good one and it's...</td>\n",
              "      <td>0</td>\n",
              "      <td>21</td>\n",
              "      <td>17</td>\n",
              "    </tr>\n",
              "    <tr>\n",
              "      <th>5</th>\n",
              "      <td>I have just started to use fountain ink pen, t...</td>\n",
              "      <td>0</td>\n",
              "      <td>5</td>\n",
              "      <td>15</td>\n",
              "    </tr>\n",
              "    <tr>\n",
              "      <th>7</th>\n",
              "      <td>An this price it does not worth it.</td>\n",
              "      <td>2</td>\n",
              "      <td>7</td>\n",
              "      <td>8</td>\n",
              "    </tr>\n",
              "    <tr>\n",
              "      <th>35</th>\n",
              "      <td>Any ink can be used but recommended Parker Quink.</td>\n",
              "      <td>2</td>\n",
              "      <td>35</td>\n",
              "      <td>9</td>\n",
              "    </tr>\n",
              "    <tr>\n",
              "      <th>19</th>\n",
              "      <td>fine nib but scratchy... you cannot down grade...</td>\n",
              "      <td>2</td>\n",
              "      <td>19</td>\n",
              "      <td>18</td>\n",
              "    </tr>\n",
              "    <tr>\n",
              "      <th>12</th>\n",
              "      <td>excellent product...smooth writing pen...no is...</td>\n",
              "      <td>2</td>\n",
              "      <td>12</td>\n",
              "      <td>12</td>\n",
              "    </tr>\n",
              "    <tr>\n",
              "      <th>25</th>\n",
              "      <td>Not worth the cost.</td>\n",
              "      <td>2</td>\n",
              "      <td>25</td>\n",
              "      <td>4</td>\n",
              "    </tr>\n",
              "    <tr>\n",
              "      <th>41</th>\n",
              "      <td>Otherwise excellent product.</td>\n",
              "      <td>3</td>\n",
              "      <td>41</td>\n",
              "      <td>3</td>\n",
              "    </tr>\n",
              "    <tr>\n",
              "      <th>32</th>\n",
              "      <td>gawd dammit it, dis pen is dayum Good, absolut...</td>\n",
              "      <td>3</td>\n",
              "      <td>32</td>\n",
              "      <td>21</td>\n",
              "    </tr>\n",
              "    <tr>\n",
              "      <th>6</th>\n",
              "      <td>Pen is good but even a 15 rs pen is same or ev...</td>\n",
              "      <td>3</td>\n",
              "      <td>6</td>\n",
              "      <td>18</td>\n",
              "    </tr>\n",
              "    <tr>\n",
              "      <th>14</th>\n",
              "      <td>Very Good.</td>\n",
              "      <td>3</td>\n",
              "      <td>14</td>\n",
              "      <td>2</td>\n",
              "    </tr>\n",
              "    <tr>\n",
              "      <th>8</th>\n",
              "      <td>Excellent product.</td>\n",
              "      <td>3</td>\n",
              "      <td>8</td>\n",
              "      <td>2</td>\n",
              "    </tr>\n",
              "    <tr>\n",
              "      <th>16</th>\n",
              "      <td>Good one.</td>\n",
              "      <td>3</td>\n",
              "      <td>16</td>\n",
              "      <td>2</td>\n",
              "    </tr>\n",
              "    <tr>\n",
              "      <th>10</th>\n",
              "      <td>I am very happy with this purchase.</td>\n",
              "      <td>3</td>\n",
              "      <td>10</td>\n",
              "      <td>7</td>\n",
              "    </tr>\n",
              "    <tr>\n",
              "      <th>22</th>\n",
              "      <td>Nice pen Good Just very very basic.</td>\n",
              "      <td>3</td>\n",
              "      <td>22</td>\n",
              "      <td>7</td>\n",
              "    </tr>\n",
              "    <tr>\n",
              "      <th>18</th>\n",
              "      <td>good to start with.</td>\n",
              "      <td>3</td>\n",
              "      <td>18</td>\n",
              "      <td>4</td>\n",
              "    </tr>\n",
              "    <tr>\n",
              "      <th>38</th>\n",
              "      <td>Brilliant performance.</td>\n",
              "      <td>4</td>\n",
              "      <td>38</td>\n",
              "      <td>2</td>\n",
              "    </tr>\n",
              "    <tr>\n",
              "      <th>2</th>\n",
              "      <td>Thanks to the Seller &amp; Flipkart as well.Con: N...</td>\n",
              "      <td>5</td>\n",
              "      <td>2</td>\n",
              "      <td>38</td>\n",
              "    </tr>\n",
              "    <tr>\n",
              "      <th>9</th>\n",
              "      <td>I gifted this pen to my father and he is so ha...</td>\n",
              "      <td>5</td>\n",
              "      <td>9</td>\n",
              "      <td>14</td>\n",
              "    </tr>\n",
              "    <tr>\n",
              "      <th>4</th>\n",
              "      <td>If you are looking for a pure fountain pen ple...</td>\n",
              "      <td>6</td>\n",
              "      <td>4</td>\n",
              "      <td>23</td>\n",
              "    </tr>\n",
              "    <tr>\n",
              "      <th>28</th>\n",
              "      <td>Great product Smooth writing amazing pen You s...</td>\n",
              "      <td>7</td>\n",
              "      <td>28</td>\n",
              "      <td>16</td>\n",
              "    </tr>\n",
              "    <tr>\n",
              "      <th>13</th>\n",
              "      <td>good for giving as gift Very good value for mo...</td>\n",
              "      <td>8</td>\n",
              "      <td>13</td>\n",
              "      <td>10</td>\n",
              "    </tr>\n",
              "    <tr>\n",
              "      <th>1</th>\n",
              "      <td>Can't expect much at this range..It's a good p...</td>\n",
              "      <td>9</td>\n",
              "      <td>1</td>\n",
              "      <td>30</td>\n",
              "    </tr>\n",
              "    <tr>\n",
              "      <th>20</th>\n",
              "      <td>nice l am so happy for this pen Cool Amazing q...</td>\n",
              "      <td>10</td>\n",
              "      <td>20</td>\n",
              "      <td>15</td>\n",
              "    </tr>\n",
              "    <tr>\n",
              "      <th>11</th>\n",
              "      <td>look wise great look..but this is my first fou...</td>\n",
              "      <td>12</td>\n",
              "      <td>11</td>\n",
              "      <td>42</td>\n",
              "    </tr>\n",
              "    <tr>\n",
              "      <th>3</th>\n",
              "      <td>very nice pen works very well tanks for sendin...</td>\n",
              "      <td>15</td>\n",
              "      <td>3</td>\n",
              "      <td>85</td>\n",
              "    </tr>\n",
              "    <tr>\n",
              "      <th>37</th>\n",
              "      <td>Nice pen Awesome product☺💕 Superb pen good Mst...</td>\n",
              "      <td>15</td>\n",
              "      <td>37</td>\n",
              "      <td>24</td>\n",
              "    </tr>\n",
              "    <tr>\n",
              "      <th>39</th>\n",
              "      <td>Bad colour It's  Nice very nice pen Best pen.....</td>\n",
              "      <td>15</td>\n",
              "      <td>39</td>\n",
              "      <td>43</td>\n",
              "    </tr>\n",
              "    <tr>\n",
              "      <th>43</th>\n",
              "      <td>Good and nice leaks ink, don't buy Just a wast...</td>\n",
              "      <td>15</td>\n",
              "      <td>43</td>\n",
              "      <td>26</td>\n",
              "    </tr>\n",
              "    <tr>\n",
              "      <th>0</th>\n",
              "      <td>Very good product for starters..Not very smoot...</td>\n",
              "      <td>19</td>\n",
              "      <td>0</td>\n",
              "      <td>50</td>\n",
              "    </tr>\n",
              "    <tr>\n",
              "      <th>47</th>\n",
              "      <td>Very good products Very bad pen Awesome Qly pr...</td>\n",
              "      <td>23</td>\n",
              "      <td>47</td>\n",
              "      <td>29</td>\n",
              "    </tr>\n",
              "    <tr>\n",
              "      <th>46</th>\n",
              "      <td>Very nice😊😊 The cap will broke in few days but...</td>\n",
              "      <td>28</td>\n",
              "      <td>46</td>\n",
              "      <td>51</td>\n",
              "    </tr>\n",
              "    <tr>\n",
              "      <th>33</th>\n",
              "      <td>Good It's product is very nice pls buy this su...</td>\n",
              "      <td>34</td>\n",
              "      <td>33</td>\n",
              "      <td>56</td>\n",
              "    </tr>\n",
              "  </tbody>\n",
              "</table>\n",
              "</div>"
            ],
            "text/plain": [
              "                                             sentence  ...  word_count\n",
              "44                     Awesome Always likage problem.  ...           4\n",
              "29                                 Very dissatisfied.  ...           2\n",
              "36  It is very light in weight and ink may leak if...  ...          17\n",
              "45  Don't buy this pen Very bad item always leakin...  ...          23\n",
              "15  but color shown in the picture (red) is differ...  ...          14\n",
              "23                Cheap plastic barrel and steel nib.  ...           6\n",
              "40                            Also very thik writing.  ...           4\n",
              "34         Both Cartridge and Ink converter provided.  ...           6\n",
              "31                  Even when ink cartridge was full.  ...           6\n",
              "30                            Didn't even write once.  ...           4\n",
              "27  Good 👍🏻 Not bad in this Price rangeThe body is...  ...          13\n",
              "26                                        Functional.  ...           1\n",
              "24                              Starter fountain pen.  ...           3\n",
              "42  But due to writing ,less standard, i shall giv...  ...          11\n",
              "17       Ok for beginners an entry level from Parker.  ...           8\n",
              "21  Updated stock.. light weight Good one and it's...  ...          17\n",
              "5   I have just started to use fountain ink pen, t...  ...          15\n",
              "7                 An this price it does not worth it.  ...           8\n",
              "35  Any ink can be used but recommended Parker Quink.  ...           9\n",
              "19  fine nib but scratchy... you cannot down grade...  ...          18\n",
              "12  excellent product...smooth writing pen...no is...  ...          12\n",
              "25                                Not worth the cost.  ...           4\n",
              "41                       Otherwise excellent product.  ...           3\n",
              "32  gawd dammit it, dis pen is dayum Good, absolut...  ...          21\n",
              "6   Pen is good but even a 15 rs pen is same or ev...  ...          18\n",
              "14                                         Very Good.  ...           2\n",
              "8                                  Excellent product.  ...           2\n",
              "16                                          Good one.  ...           2\n",
              "10                I am very happy with this purchase.  ...           7\n",
              "22                Nice pen Good Just very very basic.  ...           7\n",
              "18                                good to start with.  ...           4\n",
              "38                             Brilliant performance.  ...           2\n",
              "2   Thanks to the Seller & Flipkart as well.Con: N...  ...          38\n",
              "9   I gifted this pen to my father and he is so ha...  ...          14\n",
              "4   If you are looking for a pure fountain pen ple...  ...          23\n",
              "28  Great product Smooth writing amazing pen You s...  ...          16\n",
              "13  good for giving as gift Very good value for mo...  ...          10\n",
              "1   Can't expect much at this range..It's a good p...  ...          30\n",
              "20  nice l am so happy for this pen Cool Amazing q...  ...          15\n",
              "11  look wise great look..but this is my first fou...  ...          42\n",
              "3   very nice pen works very well tanks for sendin...  ...          85\n",
              "37  Nice pen Awesome product☺💕 Superb pen good Mst...  ...          24\n",
              "39  Bad colour It's  Nice very nice pen Best pen.....  ...          43\n",
              "43  Good and nice leaks ink, don't buy Just a wast...  ...          26\n",
              "0   Very good product for starters..Not very smoot...  ...          50\n",
              "47  Very good products Very bad pen Awesome Qly pr...  ...          29\n",
              "46  Very nice😊😊 The cap will broke in few days but...  ...          51\n",
              "33  Good It's product is very nice pls buy this su...  ...          56\n",
              "\n",
              "[48 rows x 4 columns]"
            ]
          },
          "metadata": {
            "tags": []
          },
          "execution_count": 27
        }
      ]
    },
    {
      "cell_type": "code",
      "metadata": {
        "colab": {
          "base_uri": "https://localhost:8080/",
          "height": 351
        },
        "id": "IOS-M9hC8xKZ",
        "outputId": "25d38df5-37ff-4b3f-992e-830bc202b889"
      },
      "source": [
        "#Plotting using seaborn\n",
        "import seaborn as sns\n",
        "import matplotlib.pyplot as plt\n",
        "sns.distplot(sent_df['sentiment_value'])"
      ],
      "execution_count": 28,
      "outputs": [
        {
          "output_type": "stream",
          "text": [
            "/usr/local/lib/python3.7/dist-packages/seaborn/distributions.py:2557: FutureWarning: `distplot` is a deprecated function and will be removed in a future version. Please adapt your code to use either `displot` (a figure-level function with similar flexibility) or `histplot` (an axes-level function for histograms).\n",
            "  warnings.warn(msg, FutureWarning)\n"
          ],
          "name": "stderr"
        },
        {
          "output_type": "execute_result",
          "data": {
            "text/plain": [
              "<matplotlib.axes._subplots.AxesSubplot at 0x7fc5456af710>"
            ]
          },
          "metadata": {
            "tags": []
          },
          "execution_count": 28
        },
        {
          "output_type": "display_data",
          "data": {
            "image/png": "[encoded data removed]",
            "text/plain": [
              "<Figure size 432x288 with 1 Axes>"
            ]
          },
          "metadata": {
            "tags": [],
            "needs_background": "light"
          }
        }
      ]
    },
    {
      "cell_type": "code",
      "metadata": {
        "colab": {
          "base_uri": "https://localhost:8080/",
          "height": 623
        },
        "id": "9UkNDAxd83Lk",
        "outputId": "79f0de23-85ed-458a-e680-8e1ac1914826"
      },
      "source": [
        "plt.figure(figsize=(15, 10))\n",
        "sns.lineplot(y='sentiment_value',x='index',data=sent_df)"
      ],
      "execution_count": 29,
      "outputs": [
        {
          "output_type": "execute_result",
          "data": {
            "text/plain": [
              "<matplotlib.axes._subplots.AxesSubplot at 0x7fc52f451790>"
            ]
          },
          "metadata": {
            "tags": []
          },
          "execution_count": 29
        },
        {
          "output_type": "display_data",
          "data": {
            "image/png": "[encoded data removed]",
            "text/plain": [
              "<Figure size 1080x720 with 1 Axes>"
            ]
          },
          "metadata": {
            "tags": [],
            "needs_background": "light"
          }
        }
      ]
    },
    {
      "cell_type": "code",
      "metadata": {
        "colab": {
          "base_uri": "https://localhost:8080/",
          "height": 531
        },
        "id": "V6xvQONP9Bgl",
        "outputId": "bffed9df-7333-4591-9048-bb6b7ac9b705"
      },
      "source": [
        "sent_df.plot.scatter(x='word_count', y='sentiment_value', figsize=(8,8), title='Sentence sentiment value to sentence word count')"
      ],
      "execution_count": 30,
      "outputs": [
        {
          "output_type": "execute_result",
          "data": {
            "text/plain": [
              "<matplotlib.axes._subplots.AxesSubplot at 0x7fc52c0eea10>"
            ]
          },
          "metadata": {
            "tags": []
          },
          "execution_count": 30
        },
        {
          "output_type": "display_data",
          "data": {
            "image/png": "[encoded data removed]",
            "text/plain": [
              "<Figure size 576x576 with 1 Axes>"
            ]
          },
          "metadata": {
            "tags": [],
            "needs_background": "light"
          }
        }
      ]
    }
  ]
}